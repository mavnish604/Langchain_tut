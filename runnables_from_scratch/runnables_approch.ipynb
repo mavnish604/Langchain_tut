{
 "cells": [
  {
   "cell_type": "code",
   "execution_count": 16,
   "id": "ea01bc28-ff21-4782-8b63-63aba8d74e85",
   "metadata": {},
   "outputs": [],
   "source": [
    "from abc import ABC,abstractmethod"
   ]
  },
  {
   "cell_type": "code",
   "execution_count": 17,
   "id": "356d8d2b-d4b4-4656-a02d-1e65023daefa",
   "metadata": {},
   "outputs": [],
   "source": [
    "class Runnable(ABC):\n",
    "    @abstractmethod\n",
    "    def invoke(input_data):\n",
    "        pass"
   ]
  },
  {
   "cell_type": "code",
   "execution_count": 24,
   "id": "ab77c6ed-630f-4e97-a2d0-9b6c4d76cbc2",
   "metadata": {},
   "outputs": [],
   "source": [
    "import random\n",
    "class dummyLLM(Runnable):\n",
    "    def __init__(self):\n",
    "        print(\"LLM created\")\n",
    "\n",
    "    def invoke(self,prompt):\n",
    "       \n",
    "        response_list =[\n",
    "        \"Delhi is the captital of India\",\n",
    "        \"Cricket is the national game of Australia\",\n",
    "        \"ML means machine learning\"\n",
    "        ]\n",
    "        return {\"response\":random.choice(response_list)}\n",
    "        \n",
    "    def predict(self,prompt):\n",
    "        response_list =[\n",
    "        \"Delhi is the captital of India\",\n",
    "        \"Cricket is the national game of Australia\",\n",
    "        \"ML means machine learning\"\n",
    "        ]\n",
    "        return {\"response\":random.choice(response_list)}"
   ]
  },
  {
   "cell_type": "code",
   "execution_count": 41,
   "id": "8158297c-c8eb-4bc6-8c5a-7a773599fe9f",
   "metadata": {},
   "outputs": [],
   "source": [
    "class dummyPromptTemplate:\n",
    "    def __init__(self,template,input_var):\n",
    "        self.template = template\n",
    "        self.input_var = input_var\n",
    "    def invoke(self,input_dict):\n",
    "        return self.template.format(**input_dict)\n",
    "    def format(self,input_dict):\n",
    "        return self.template.format(**input_dict)"
   ]
  },
  {
   "cell_type": "code",
   "execution_count": 42,
   "id": "1b9dc62c-0161-4342-ace3-0ac080890ac4",
   "metadata": {},
   "outputs": [],
   "source": [
    "class RunnablesConnector(Runnable):\n",
    "    def __init__(self,runnable_list):\n",
    "        self.runnable_list = runnable_list\n",
    "\n",
    "    def invoke(self,input_data):\n",
    "        for runnable in self.runnable_list:\n",
    "            input_data=runnable.invoke(input_data)\n",
    "        return input_data"
   ]
  },
  {
   "cell_type": "code",
   "execution_count": 43,
   "id": "487182fc-3a71-43af-9e64-a910b572a6cb",
   "metadata": {},
   "outputs": [],
   "source": [
    "template = dummyPromptTemplate(\n",
    "    template=\"write a poem on the {topic} of {leng} words\",\n",
    "    input_var=[\"topic\",\"leng\"]\n",
    ")"
   ]
  },
  {
   "cell_type": "code",
   "execution_count": 44,
   "id": "20659a96-7eb5-40ef-87f3-56df678932c2",
   "metadata": {},
   "outputs": [],
   "source": [
    "chain = RunnablesConnector([template,llm])"
   ]
  },
  {
   "cell_type": "code",
   "execution_count": 52,
   "id": "c7949166-fe13-4cc2-899a-91ee3ec6611e",
   "metadata": {},
   "outputs": [
    {
     "data": {
      "text/plain": [
       "{'response': 'Cricket is the national game of Australia'}"
      ]
     },
     "execution_count": 52,
     "metadata": {},
     "output_type": "execute_result"
    }
   ],
   "source": [
    "chain.invoke({\"leng\":50,\"topic\":\"cn\"})"
   ]
  },
  {
   "cell_type": "code",
   "execution_count": null,
   "id": "e2cb41f1-c736-4108-80cd-515804b58b53",
   "metadata": {},
   "outputs": [],
   "source": []
  }
 ],
 "metadata": {
  "kernelspec": {
   "display_name": "Python 3 (ipykernel)",
   "language": "python",
   "name": "python3"
  },
  "language_info": {
   "codemirror_mode": {
    "name": "ipython",
    "version": 3
   },
   "file_extension": ".py",
   "mimetype": "text/x-python",
   "name": "python",
   "nbconvert_exporter": "python",
   "pygments_lexer": "ipython3",
   "version": "3.13.7"
  }
 },
 "nbformat": 4,
 "nbformat_minor": 5
}
