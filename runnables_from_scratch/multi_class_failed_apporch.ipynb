{
 "cells": [
  {
   "cell_type": "code",
   "execution_count": 3,
   "id": "bf0621c6-a491-4cbd-b148-7a61a9f06310",
   "metadata": {},
   "outputs": [],
   "source": [
    "import random\n",
    "class dummyLLM:\n",
    "    def __init__(self):\n",
    "        print(\"LLM created\")\n",
    "\n",
    "    def chat(self,prompt):\n",
    "        response_list =[\n",
    "        \"Delhi is the captital of India\",\n",
    "        \"Cricket is the national game of Australia\",\n",
    "        \"ML means machine learning\"\n",
    "        ]\n",
    "        return {\"response\":random.choice(response_list)}"
   ]
  },
  {
   "cell_type": "code",
   "execution_count": 4,
   "id": "d664a69f-1c70-4c35-b9e3-deb5e0ddb57a",
   "metadata": {},
   "outputs": [
    {
     "name": "stdout",
     "output_type": "stream",
     "text": [
      "LLM created\n"
     ]
    }
   ],
   "source": [
    "llm=dummyLLM()"
   ]
  },
  {
   "cell_type": "code",
   "execution_count": 7,
   "id": "7b4a5459-817e-41ee-bf46-faee44c96aa9",
   "metadata": {},
   "outputs": [
    {
     "data": {
      "text/plain": [
       "{'response': 'Cricket is the national game of Australia'}"
      ]
     },
     "execution_count": 7,
     "metadata": {},
     "output_type": "execute_result"
    }
   ],
   "source": [
    "llm.chat(\"what is the national game of austraila\")"
   ]
  },
  {
   "cell_type": "code",
   "execution_count": 11,
   "id": "421165c4-43be-43fd-9491-62613f0455d5",
   "metadata": {},
   "outputs": [],
   "source": [
    "class dummyPromptTemplate:\n",
    "    def __init__(self,leng,template,input_var):\n",
    "        self.template = template\n",
    "        self.input_var = input_var\n",
    "        self.leng=leng\n",
    "    def format(self,input_dict):\n",
    "        return self.template.format(**input_dict)"
   ]
  },
  {
   "cell_type": "code",
   "execution_count": 14,
   "id": "a99f473c-05f9-4c58-8828-f4879cf44f21",
   "metadata": {},
   "outputs": [],
   "source": [
    "template = dummyPromptTemplate(\n",
    "    template=\"write a poem on the {topic} of {leng} words\",\n",
    "    input_var=[\"topic\",\"leng\"]\n",
    ")"
   ]
  },
  {
   "cell_type": "code",
   "execution_count": 19,
   "id": "3e0822fd-d81e-428d-89e7-e5efb6da6515",
   "metadata": {},
   "outputs": [],
   "source": [
    "prompt=template.format({\"topic\":\"India\",\"leng\":100})"
   ]
  },
  {
   "cell_type": "code",
   "execution_count": 22,
   "id": "469b57aa-f2bc-46fb-96a8-ec15e4b4746a",
   "metadata": {},
   "outputs": [
    {
     "data": {
      "text/plain": [
       "{'response': 'Cricket is the national game of Australia'}"
      ]
     },
     "execution_count": 22,
     "metadata": {},
     "output_type": "execute_result"
    }
   ],
   "source": [
    "llm.chat(prompt)"
   ]
  },
  {
   "cell_type": "code",
   "execution_count": 23,
   "id": "e8720535-e04b-4024-8e0a-28ab287652ae",
   "metadata": {},
   "outputs": [],
   "source": [
    "class dummyLLMCHAIN:\n",
    "    def __init__(self,llm,prompt):\n",
    "        self.llm=llm\n",
    "        self.prompt=prompt\n",
    "    def run(self,input_dict):\n",
    "        final_prompt = self.prompt.format(input_dict)\n",
    "        result = self.llm.chat(final_prompt)\n",
    "        return result[\"response\"]"
   ]
  },
  {
   "cell_type": "code",
   "execution_count": 24,
   "id": "eed613e6-2832-4564-bd6b-3e3f44ca9554",
   "metadata": {},
   "outputs": [],
   "source": [
    "chain = dummyLLMCHAIN(llm,template)"
   ]
  },
  {
   "cell_type": "code",
   "execution_count": null,
   "id": "fd5a0ed3-5f3b-475a-b9fb-ea421859fc91",
   "metadata": {},
   "outputs": [],
   "source": [
    "chain.run({\"leng\":})"
   ]
  },
  {
   "cell_type": "code",
   "execution_count": null,
   "id": "67ce02fb-c079-4fdd-83f4-1afa11f4cf9e",
   "metadata": {},
   "outputs": [],
   "source": []
  }
 ],
 "metadata": {
  "kernelspec": {
   "display_name": "Python 3 (ipykernel)",
   "language": "python",
   "name": "python3"
  },
  "language_info": {
   "codemirror_mode": {
    "name": "ipython",
    "version": 3
   },
   "file_extension": ".py",
   "mimetype": "text/x-python",
   "name": "python",
   "nbconvert_exporter": "python",
   "pygments_lexer": "ipython3",
   "version": "3.13.7"
  }
 },
 "nbformat": 4,
 "nbformat_minor": 5
}
