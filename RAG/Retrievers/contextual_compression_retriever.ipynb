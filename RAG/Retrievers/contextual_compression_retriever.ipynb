{
 "cells": [
  {
   "cell_type": "code",
   "execution_count": 2,
   "id": "3ac524a6-1467-4f58-8cb8-371bdf8a9261",
   "metadata": {},
   "outputs": [],
   "source": [
    "from langchain_community.vectorstores import Chroma\n",
    "from langchain_huggingface import HuggingFaceEmbeddings\n",
    "from langchain_google_genai import ChatGoogleGenerativeAI\n",
    "from langchain.retrievers.contextual_compression import ContextualCompressionRetriever\n",
    "from langchain.retrievers.document_compressors import LLMChainExtractor\n",
    "from langchain_core.documents import Document\n",
    "from dotenv import load_dotenv"
   ]
  },
  {
   "cell_type": "code",
   "execution_count": 3,
   "id": "4fbee420-b506-4e74-872c-488aa9bae8c5",
   "metadata": {},
   "outputs": [
    {
     "data": {
      "text/plain": [
       "True"
      ]
     },
     "execution_count": 3,
     "metadata": {},
     "output_type": "execute_result"
    }
   ],
   "source": [
    "load_dotenv()"
   ]
  },
  {
   "cell_type": "code",
   "execution_count": 4,
   "id": "c7e3f088-6fce-4346-afc3-5b1025c985f3",
   "metadata": {},
   "outputs": [],
   "source": [
    "docs = [\n",
    "    Document(\n",
    "        page_content=\"Gradient Descent is fundamental for optimizing machine learning models. Interestingly, Mount Everest is the tallest mountain on Earth, showing how natural extremes can mirror optimization in algorithms.\", \n",
    "        metadata={\"source\": \"Doc1\"}\n",
    "    ),\n",
    "    Document(\n",
    "        page_content=\"Overfitting happens when models memorize training data instead of generalizing. Similarly, the Amazon rainforest maintains a delicate balance, producing 20% of Earth's oxygen while supporting immense biodiversity.\", \n",
    "        metadata={\"source\": \"Doc2\"}\n",
    "    ),\n",
    "    Document(\n",
    "        page_content=\"Regularization methods like L1 and L2 prevent models from becoming too complex. Just as the FIFA World Cup gathers millions of fans globally, ML models require careful coordination to perform optimally under pressure.\", \n",
    "        metadata={\"source\": \"Doc3\"}\n",
    "    ),\n",
    "    Document(\n",
    "        page_content=\"Support Vector Machines find optimal hyperplanes for classification. Meanwhile, black holes warp spacetime with massive gravity, illustrating the extremes that nature can achieve, akin to optimization challenges in high-dimensional spaces.\", \n",
    "        metadata={\"source\": \"Doc4\"}\n",
    "    ),\n",
    "    Document(\n",
    "        page_content=\"Principal Component Analysis reduces dimensions while capturing maximum variance. Similarly, the Great Wall of China, stretching thousands of kilometers, was built strategically to cover maximum area efficiently.\", \n",
    "        metadata={\"source\": \"Doc5\"}\n",
    "    ),\n",
    "    Document(\n",
    "        page_content=\"Reinforcement Learning agents learn by trial and error to maximize rewards. In parallel, ecosystems like the Amazon rainforest adapt continuously, showing natural reinforcement over centuries.\", \n",
    "        metadata={\"source\": \"Doc6\"}\n",
    "    ),\n",
    "    Document(\n",
    "        page_content=\"Neural Networks excel at pattern recognition inspired by the human brain. Meanwhile, FIFA tournaments create patterns of fan engagement and team performance, showing how structured networks can emerge in both AI and human systems.\", \n",
    "        metadata={\"source\": \"Doc7\"}\n",
    "    ),\n",
    "    Document(\n",
    "        page_content=\"Transfer Learning allows knowledge reuse across tasks in AI. Similarly, knowledge from history, like the construction of the Great Wall, can be transferred to modern engineering for efficiency and durability.\", \n",
    "        metadata={\"source\": \"Doc8\"}\n",
    "    ),\n",
    "    Document(\n",
    "        page_content=\"Decision Trees split data for predictions, reflecting structured decision-making. Likewise, Mount Everest's climbing routes have been mapped and optimized, showing how natural challenges can be navigated systematically.\", \n",
    "        metadata={\"source\": \"Doc9\"}\n",
    "    ),\n",
    "    Document(\n",
    "        page_content=\"Ensemble methods combine multiple models for better accuracy. Similarly, the Amazon rainforest relies on interdependent species working together to maintain stability and resilience.\", \n",
    "        metadata={\"source\": \"Doc10\"}\n",
    "    ),\n",
    "]\n"
   ]
  },
  {
   "cell_type": "code",
   "execution_count": 6,
   "id": "e6203876-ffcd-49a7-8ae8-1f2493964fc8",
   "metadata": {},
   "outputs": [],
   "source": [
    "vector_store=Chroma.from_documents(docs,HuggingFaceEmbeddings(model=\"sentence-transformers/all-MiniLM-L6-v2\"))"
   ]
  },
  {
   "cell_type": "code",
   "execution_count": 20,
   "id": "fc82452c-e2af-4917-ad83-05851e6f75ac",
   "metadata": {},
   "outputs": [],
   "source": [
    "base_ret = vector_store.as_retriever(search_kwargs={\"k\":5})"
   ]
  },
  {
   "cell_type": "code",
   "execution_count": 21,
   "id": "d830c097-220f-4da9-8f37-a73e541e3551",
   "metadata": {},
   "outputs": [],
   "source": [
    "compressor = LLMChainExtractor.from_llm(llm=ChatGoogleGenerativeAI(model=\"gemini-2.0-flash\"))"
   ]
  },
  {
   "cell_type": "code",
   "execution_count": 22,
   "id": "de146945-1558-4542-a199-9724b3c05eb9",
   "metadata": {},
   "outputs": [],
   "source": [
    "compression_retriver = ContextualCompressionRetriever(\n",
    "    base_compressor=compressor,\n",
    "    base_retriever=base_ret\n",
    ")"
   ]
  },
  {
   "cell_type": "code",
   "execution_count": 27,
   "id": "43212187-1fab-4fdd-a150-545b5894d512",
   "metadata": {},
   "outputs": [],
   "source": [
    "query=\" ON what amazon rain forest reliant on?\""
   ]
  },
  {
   "cell_type": "code",
   "execution_count": 28,
   "id": "bac08602-05bd-4508-aaea-2c05599a853f",
   "metadata": {},
   "outputs": [],
   "source": [
    "res=compression_retriver.invoke(query)"
   ]
  },
  {
   "cell_type": "code",
   "execution_count": 29,
   "id": "b4b21fea-f080-41e3-b49d-f1807cee45d9",
   "metadata": {},
   "outputs": [
    {
     "name": "stdout",
     "output_type": "stream",
     "text": [
      "_________________________________________________________________________________________\n",
      "Result: 1\n",
      "Amazon rainforest relies on interdependent species working together to maintain stability and resilience.\n",
      "_________________________________________________________________________________________\n",
      "_________________________________________________________________________________________\n",
      "Result: 2\n",
      "Amazon rainforest\n",
      "_________________________________________________________________________________________\n"
     ]
    }
   ],
   "source": [
    "for i,doc in enumerate(res):\n",
    "    print(\"_________________________________________________________________________________________\")\n",
    "    print(\"Result:\",i+1)\n",
    "    print(doc.page_content)\n",
    "    print(\"_________________________________________________________________________________________\")"
   ]
  },
  {
   "cell_type": "code",
   "execution_count": null,
   "id": "c6cf1b17-c226-4741-9e08-b1fcad5c7694",
   "metadata": {},
   "outputs": [],
   "source": []
  },
  {
   "cell_type": "code",
   "execution_count": null,
   "id": "f2e8ce75-07bc-42b1-835c-de03ac187815",
   "metadata": {},
   "outputs": [],
   "source": []
  }
 ],
 "metadata": {
  "kernelspec": {
   "display_name": "Python 3 (ipykernel)",
   "language": "python",
   "name": "python3"
  },
  "language_info": {
   "codemirror_mode": {
    "name": "ipython",
    "version": 3
   },
   "file_extension": ".py",
   "mimetype": "text/x-python",
   "name": "python",
   "nbconvert_exporter": "python",
   "pygments_lexer": "ipython3",
   "version": "3.13.7"
  }
 },
 "nbformat": 4,
 "nbformat_minor": 5
}
