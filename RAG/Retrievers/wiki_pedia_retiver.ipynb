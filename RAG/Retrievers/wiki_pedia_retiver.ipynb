{
 "cells": [
  {
   "cell_type": "code",
   "execution_count": 20,
   "id": "69e3841e-d8b3-4322-9ac3-05a16996d281",
   "metadata": {},
   "outputs": [],
   "source": [
    "#!/home/tst_imperial/langchain/venv/bin/python"
   ]
  },
  {
   "cell_type": "code",
   "execution_count": 21,
   "id": "eacb5773-7171-4f66-9188-babaea98bbf2",
   "metadata": {},
   "outputs": [],
   "source": [
    "from langchain_community.retrievers import WikipediaRetriever"
   ]
  },
  {
   "cell_type": "code",
   "execution_count": 22,
   "id": "d365a473-b846-41a2-ad10-501a645ec6b6",
   "metadata": {},
   "outputs": [],
   "source": [
    "retriver = WikipediaRetriever(top_k_results=2,lang=\"en\")"
   ]
  },
  {
   "cell_type": "code",
   "execution_count": 30,
   "id": "2f44dd47-7aad-4d80-8562-9551fe127c93",
   "metadata": {},
   "outputs": [],
   "source": [
    "query = \"The cricket history of india and pakistan\"\n",
    "\n",
    "docs = retriver.invoke(query)"
   ]
  },
  {
   "cell_type": "code",
   "execution_count": 31,
   "id": "1beee2b2-d62f-4999-95e1-4cd3e2c390ce",
   "metadata": {},
   "outputs": [
    {
     "name": "stdout",
     "output_type": "stream",
     "text": [
      "\n",
      "--- Result 1 ---\n",
      "Title: India–Pakistan cricket rivalry\n",
      "Snippet: The India–Pakistan cricket rivalry is one of the most intense sports rivalries in the world. Showdowns between the teams are considered some of the biggest matches in the world, and are among the most-viewed sport games.\n",
      "India has won 12 International Cricket Council tournaments compared to Pakistan...\n",
      "\n",
      "--- Result 2 ---\n",
      "Title: History of the Pakistan national cricket team\n",
      "Snippet: The Pakistan cricket team made its Test cricket debut in 1952 and has since become one of the most successful teams in modern cricket. The team reached the semi-finals of the 1979,1983, 1987 and 2011 World Cups, and finals in 1992 and 1999, and won the 1992 ICC Cricket World Cup by defeating England...\n"
     ]
    }
   ],
   "source": [
    "for i, doc in enumerate(docs, 1):\n",
    "    print(f\"\\n--- Result {i} ---\")\n",
    "    print(f\"Title: {doc.metadata.get('title', 'N/A')}\")\n",
    "    print(f\"Snippet: {doc.page_content[:300]}...\")\n",
    "\n",
    "    "
   ]
  },
  {
   "cell_type": "code",
   "execution_count": null,
   "id": "fd0a3049-7079-4fda-8c33-2b6009aa0f6f",
   "metadata": {},
   "outputs": [],
   "source": []
  }
 ],
 "metadata": {
  "kernelspec": {
   "display_name": "Python 3 (ipykernel)",
   "language": "python",
   "name": "python3"
  },
  "language_info": {
   "codemirror_mode": {
    "name": "ipython",
    "version": 3
   },
   "file_extension": ".py",
   "mimetype": "text/x-python",
   "name": "python",
   "nbconvert_exporter": "python",
   "pygments_lexer": "ipython3",
   "version": "3.13.7"
  }
 },
 "nbformat": 4,
 "nbformat_minor": 5
}
