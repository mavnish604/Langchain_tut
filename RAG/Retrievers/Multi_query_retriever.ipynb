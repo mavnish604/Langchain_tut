{
 "cells": [
  {
   "cell_type": "code",
   "execution_count": 1,
   "id": "4d62667f-b000-42ff-8b7a-8c8dc25e303d",
   "metadata": {},
   "outputs": [
    {
     "data": {
      "text/plain": [
       "True"
      ]
     },
     "execution_count": 1,
     "metadata": {},
     "output_type": "execute_result"
    }
   ],
   "source": [
    "#!/home/tst_imperial/langchain/venv/bin/python\n",
    "from langchain_google_genai import ChatGoogleGenerativeAI\n",
    "from langchain_huggingface import HuggingFaceEmbeddings\n",
    "from langchain.retrievers.multi_query import MultiQueryRetriever\n",
    "from langchain_community.vectorstores import Chroma\n",
    "from langchain_core.documents import Document\n",
    "from dotenv import load_dotenv\n",
    "load_dotenv()"
   ]
  },
  {
   "cell_type": "code",
   "execution_count": 2,
   "id": "d872fd9d-5334-41c5-b8c5-fc25b36c1caf",
   "metadata": {},
   "outputs": [],
   "source": [
    "docs = [\n",
    "    Document(page_content=\"Gradient Descent is the backbone of most optimization algorithms in machine learning.\", metadata={\"source\": \"ML1\"}),\n",
    "    Document(page_content=\"Overfitting occurs when a model performs well on training data but poorly on unseen data.\", metadata={\"source\": \"ML2\"}),\n",
    "    Document(page_content=\"Regularization techniques like L1 and L2 prevent models from becoming too complex.\", metadata={\"source\": \"ML3\"}),\n",
    "    Document(page_content=\"Support Vector Machines aim to find the hyperplane that best separates classes.\", metadata={\"source\": \"ML4\"}),\n",
    "    Document(page_content=\"Principal Component Analysis (PCA) reduces dimensionality by capturing maximum variance.\", metadata={\"source\": \"ML5\"}),\n",
    "    Document(page_content=\"Reinforcement Learning agents learn by maximizing cumulative rewards through trial and error.\", metadata={\"source\": \"ML6\"}),\n",
    "    Document(page_content=\"Mount Everest is the tallest mountain on Earth, standing at 8,849 meters.\", metadata={\"source\": \"R1\"}),\n",
    "    Document(page_content=\"The Great Wall of China stretches over 21,000 kilometers across northern China.\", metadata={\"source\": \"R2\"}),\n",
    "    Document(page_content=\"The Amazon rainforest produces around 20% of the world's oxygen supply.\", metadata={\"source\": \"R3\"}),\n",
    "    Document(page_content=\"Neural Networks are inspired by the structure of the human brain and excel in pattern recognition.\", metadata={\"source\": \"ML7\"}),\n",
    "]\n"
   ]
  },
  {
   "cell_type": "code",
   "execution_count": 3,
   "id": "ebd90502-4fd8-4880-a89a-572454c82b84",
   "metadata": {},
   "outputs": [],
   "source": [
    "embeddings = HuggingFaceEmbeddings(model=\"sentence-transformers/all-MiniLM-L6-v2\")"
   ]
  },
  {
   "cell_type": "code",
   "execution_count": 4,
   "id": "10c698ea-403f-44e9-98c4-71b7fea8edec",
   "metadata": {},
   "outputs": [],
   "source": [
    "vector_store = Chroma.from_documents(\n",
    "    documents=docs,\n",
    "    embedding=embeddings\n",
    ")"
   ]
  },
  {
   "cell_type": "code",
   "execution_count": 18,
   "id": "a1d7cbd5-845e-403c-abef-8e2367a62969",
   "metadata": {},
   "outputs": [],
   "source": [
    "similarity_retriever = vector_store.as_retriever(search_type = \"similarity\",search_kwargs={\"k\":6})"
   ]
  },
  {
   "cell_type": "code",
   "execution_count": 24,
   "id": "01ded27c-99c3-444e-b0d4-7747fc4a3139",
   "metadata": {},
   "outputs": [],
   "source": [
    "multiquery_retriver = MultiQueryRetriever.from_llm(\n",
    "    retriever=vector_store.as_retriever(search_kwargs={\"k\":6}),\n",
    "    llm=ChatGoogleGenerativeAI(model=\"gemini-2.0-flash\")\n",
    ")"
   ]
  },
  {
   "cell_type": "code",
   "execution_count": 25,
   "id": "fde9d1fb-ff30-44eb-92ef-ae08f3a2cc49",
   "metadata": {},
   "outputs": [],
   "source": [
    "query=\"How do systems learn and adapt over time, whether it’s in nature, technology, or even human-built structures?\""
   ]
  },
  {
   "cell_type": "code",
   "execution_count": 26,
   "id": "ef5af21a-a10a-40aa-a1b6-85b915d8ca06",
   "metadata": {},
   "outputs": [],
   "source": [
    "simi_res = similarity_retriever.invoke(query)\n",
    "mul_res = multiquery_retriver.invoke(query)"
   ]
  },
  {
   "cell_type": "code",
   "execution_count": 27,
   "id": "099f20cf-eba2-46df-8b04-e568718f2958",
   "metadata": {},
   "outputs": [
    {
     "name": "stdout",
     "output_type": "stream",
     "text": [
      "_________________________________________________________________________________________\n",
      "Result: 1\n",
      "Reinforcement Learning agents learn by maximizing cumulative rewards through trial and error.\n",
      "_________________________________________________________________________________________\n",
      "_________________________________________________________________________________________\n",
      "Result: 2\n",
      "Neural Networks are inspired by the structure of the human brain and excel in pattern recognition.\n",
      "_________________________________________________________________________________________\n",
      "_________________________________________________________________________________________\n",
      "Result: 3\n",
      "Gradient Descent is the backbone of most optimization algorithms in machine learning.\n",
      "_________________________________________________________________________________________\n",
      "_________________________________________________________________________________________\n",
      "Result: 4\n",
      "Regularization techniques like L1 and L2 prevent models from becoming too complex.\n",
      "_________________________________________________________________________________________\n",
      "_________________________________________________________________________________________\n",
      "Result: 5\n",
      "Support Vector Machines aim to find the hyperplane that best separates classes.\n",
      "_________________________________________________________________________________________\n",
      "_________________________________________________________________________________________\n",
      "Result: 6\n",
      "Principal Component Analysis (PCA) reduces dimensionality by capturing maximum variance.\n",
      "_________________________________________________________________________________________\n"
     ]
    }
   ],
   "source": [
    "for i,doc in enumerate(simi_res):\n",
    "    print(\"_________________________________________________________________________________________\")\n",
    "    print(\"Result:\",i+1)\n",
    "    print(doc.page_content)\n",
    "    print(\"_________________________________________________________________________________________\")"
   ]
  },
  {
   "cell_type": "code",
   "execution_count": 28,
   "id": "b779e692-60cf-48ce-8234-998bed20ad92",
   "metadata": {},
   "outputs": [
    {
     "name": "stdout",
     "output_type": "stream",
     "text": [
      "_________________________________________________________________________________________\n",
      "Result: 1\n",
      "Reinforcement Learning agents learn by maximizing cumulative rewards through trial and error.\n",
      "_________________________________________________________________________________________\n",
      "_________________________________________________________________________________________\n",
      "Result: 2\n",
      "Gradient Descent is the backbone of most optimization algorithms in machine learning.\n",
      "_________________________________________________________________________________________\n",
      "_________________________________________________________________________________________\n",
      "Result: 3\n",
      "Neural Networks are inspired by the structure of the human brain and excel in pattern recognition.\n",
      "_________________________________________________________________________________________\n",
      "_________________________________________________________________________________________\n",
      "Result: 4\n",
      "Support Vector Machines aim to find the hyperplane that best separates classes.\n",
      "_________________________________________________________________________________________\n",
      "_________________________________________________________________________________________\n",
      "Result: 5\n",
      "Regularization techniques like L1 and L2 prevent models from becoming too complex.\n",
      "_________________________________________________________________________________________\n",
      "_________________________________________________________________________________________\n",
      "Result: 6\n",
      "Principal Component Analysis (PCA) reduces dimensionality by capturing maximum variance.\n",
      "_________________________________________________________________________________________\n"
     ]
    }
   ],
   "source": [
    "for i,doc in enumerate(mul_res):\n",
    "    print(\"_________________________________________________________________________________________\")\n",
    "    print(\"Result:\",i+1)\n",
    "    print(doc.page_content)\n",
    "    print(\"_________________________________________________________________________________________\")"
   ]
  },
  {
   "cell_type": "code",
   "execution_count": null,
   "id": "610e4a61-2de4-40d6-9d1d-21882fb22c0c",
   "metadata": {},
   "outputs": [],
   "source": []
  }
 ],
 "metadata": {
  "kernelspec": {
   "display_name": "Python 3 (ipykernel)",
   "language": "python",
   "name": "python3"
  },
  "language_info": {
   "codemirror_mode": {
    "name": "ipython",
    "version": 3
   },
   "file_extension": ".py",
   "mimetype": "text/x-python",
   "name": "python",
   "nbconvert_exporter": "python",
   "pygments_lexer": "ipython3",
   "version": "3.13.7"
  }
 },
 "nbformat": 4,
 "nbformat_minor": 5
}
