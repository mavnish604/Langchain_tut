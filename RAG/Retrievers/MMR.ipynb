{
 "cells": [
  {
   "cell_type": "code",
   "execution_count": 1,
   "id": "de3abfa3-e78b-40d8-8286-0773ef6ef08b",
   "metadata": {},
   "outputs": [],
   "source": [
    "#!/home/tst_imperial/langchain/venv/bin/python"
   ]
  },
  {
   "cell_type": "code",
   "execution_count": 5,
   "id": "e1e902bf-2e5c-4450-bf9b-97c973127a26",
   "metadata": {},
   "outputs": [],
   "source": [
    "from langchain_community.vectorstores import FAISS\n",
    "from langchain_core.documents import Document\n",
    "from langchain_huggingface import HuggingFaceEmbeddings"
   ]
  },
  {
   "cell_type": "code",
   "execution_count": 6,
   "id": "155e14a2-c5a5-4945-8257-6a174d91a865",
   "metadata": {},
   "outputs": [],
   "source": [
    "Docs = [\n",
    "        Document(page_content=\"\"\"Gradient Descent isn’t guaranteed to find the global minimum – \n",
    "        for non-convex functions (like deep neural networks), it often gets stuck in local minima or \n",
    "        saddle points, yet still works surprisingly well in practice.\"\"\"),\n",
    "        Document(page_content=\"\"\"Naïve Bayes can outperform complex models – despite its \"naïve\" assumption of feature \n",
    "        independence, it can work extremely well on text classification tasks like spam filtering.\"\"\"),\n",
    "        Document(page_content=\"\"\"PCA doesn’t just reduce dimensions—it denoises – by keeping only the top principal components,\n",
    "        PCA often filters out noise along with lowering dimensionality.\"\"\"),\n",
    "        Document(page_content=\"\"\"Support Vector Machines (SVMs) were once state-of-the-art – before deep learning dominated,\n",
    "        SVMs were the go-to algorithm for many real-world classification tasks.\"\"\"),\n",
    "        Document(page_content=\"\"\"Reinforcement Learning agents sometimes “cheat” – in simulations, RL agents have been known to \n",
    "        exploit bugs in the environment to maximize reward instead of solving the intended task.\"\"\")  \n",
    "        ]"
   ]
  },
  {
   "cell_type": "code",
   "execution_count": 7,
   "id": "bae3d834-a4e6-4c0e-af58-b3435d2c214c",
   "metadata": {},
   "outputs": [],
   "source": [
    "embeddings = HuggingFaceEmbeddings(model = \"sentence-transformers/all-MiniLM-L6-v2\")"
   ]
  },
  {
   "cell_type": "code",
   "execution_count": 8,
   "id": "c291cd49-4479-4ea5-9a13-bb43d47d0308",
   "metadata": {},
   "outputs": [],
   "source": [
    "vector_store = FAISS.from_documents(\n",
    "    documents=Docs,\n",
    "    embedding=embeddings\n",
    ")"
   ]
  },
  {
   "cell_type": "code",
   "execution_count": 12,
   "id": "44e25ed5-ff59-42bb-933b-664538865b5c",
   "metadata": {},
   "outputs": [],
   "source": [
    "retriver = vector_store.as_retriever(\n",
    "        search_type = \"mmr\",\n",
    "        search_kwargs={\"k\":3,\"lambda_mult\":0.6}\n",
    "    \n",
    ")"
   ]
  },
  {
   "cell_type": "code",
   "execution_count": 15,
   "id": "c9aa4ba1-974a-435a-8be9-be513bbaf7b8",
   "metadata": {},
   "outputs": [],
   "source": [
    "query = \"what are rl agents?\"\n",
    "\n",
    "res = retriver.invoke(query)"
   ]
  },
  {
   "cell_type": "code",
   "execution_count": 16,
   "id": "cee61885-c7d7-4c6c-848e-06047cfbb8fc",
   "metadata": {},
   "outputs": [
    {
     "name": "stdout",
     "output_type": "stream",
     "text": [
      "_________________________________________________________________________________________\n",
      "Result: 1\n",
      "Reinforcement Learning agents sometimes “cheat” – in simulations, RL agents have been known to \n",
      "        exploit bugs in the environment to maximize reward instead of solving the intended task.\n",
      "_________________________________________________________________________________________\n",
      "_________________________________________________________________________________________\n",
      "Result: 2\n",
      "PCA doesn’t just reduce dimensions—it denoises – by keeping only the top principal components,\n",
      "        PCA often filters out noise along with lowering dimensionality.\n",
      "_________________________________________________________________________________________\n",
      "_________________________________________________________________________________________\n",
      "Result: 3\n",
      "Support Vector Machines (SVMs) were once state-of-the-art – before deep learning dominated,\n",
      "        SVMs were the go-to algorithm for many real-world classification tasks.\n",
      "_________________________________________________________________________________________\n"
     ]
    }
   ],
   "source": [
    "for i,doc in enumerate(res):\n",
    "    print(\"_________________________________________________________________________________________\")\n",
    "    print(\"Result:\",i+1)\n",
    "    print(doc.page_content)\n",
    "    print(\"_________________________________________________________________________________________\")"
   ]
  },
  {
   "cell_type": "code",
   "execution_count": null,
   "id": "1479e0be-2415-4cf9-b8c6-b8735dd61104",
   "metadata": {},
   "outputs": [],
   "source": []
  }
 ],
 "metadata": {
  "kernelspec": {
   "display_name": "Python 3 (ipykernel)",
   "language": "python",
   "name": "python3"
  },
  "language_info": {
   "codemirror_mode": {
    "name": "ipython",
    "version": 3
   },
   "file_extension": ".py",
   "mimetype": "text/x-python",
   "name": "python",
   "nbconvert_exporter": "python",
   "pygments_lexer": "ipython3",
   "version": "3.13.7"
  }
 },
 "nbformat": 4,
 "nbformat_minor": 5
}
