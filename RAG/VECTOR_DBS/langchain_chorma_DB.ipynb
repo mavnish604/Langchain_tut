{
 "cells": [
  {
   "cell_type": "code",
   "execution_count": 1,
   "id": "c82bd67c-c557-483f-89f0-516b51a325e4",
   "metadata": {},
   "outputs": [],
   "source": [
    "#!/home/tst_imperial/langchain/venv/bin/python"
   ]
  },
  {
   "cell_type": "code",
   "execution_count": 2,
   "id": "5aa25e1c-1f40-4149-8893-9d3557252694",
   "metadata": {},
   "outputs": [],
   "source": [
    "from langchain_huggingface import HuggingFaceEmbeddings\n",
    "from langchain.vectorstores import Chroma"
   ]
  },
  {
   "cell_type": "code",
   "execution_count": 3,
   "id": "9e3b5a8f-6a52-4a11-a81b-125743c861c0",
   "metadata": {},
   "outputs": [],
   "source": [
    "from langchain.schema import Document\n",
    "\n",
    "docs = [\n",
    "    Document(\n",
    "        page_content=\"India chased 280 with 2 wickets in hand against Australia.\",\n",
    "        metadata={\n",
    "            \"id\": \"doc_001\",\n",
    "            \"title\": \"India vs Australia Match Report\",\n",
    "            \"document_type\": \"match_report\"\n",
    "        }\n",
    "    ),\n",
    "    Document(\n",
    "        page_content=\"Right-handed opener with strong off-side play and weaknesses against spin.\",\n",
    "        metadata={\n",
    "            \"id\": \"doc_002\",\n",
    "            \"title\": \"Batter Profile\",\n",
    "            \"document_type\": \"player_profile\"\n",
    "        }\n",
    "    ),\n",
    "    Document(\n",
    "        page_content=\"Left-arm pacer specializing in death overs with yorkers and slower balls.\",\n",
    "        metadata={\n",
    "            \"id\": \"doc_003\",\n",
    "            \"title\": \"Bowler Profile\",\n",
    "            \"document_type\": \"player_profile\"\n",
    "        }\n",
    "    ),\n",
    "    Document(\n",
    "        page_content=\"ICC announces the 2025 Champions Trophy schedule in India and Sri Lanka.\",\n",
    "        metadata={\n",
    "            \"id\": \"doc_004\",\n",
    "            \"title\": \"Champions Trophy 2025 Schedule\",\n",
    "            \"document_type\": \"news\"\n",
    "        }\n",
    "    ),\n",
    "    Document(\n",
    "        page_content=\"Pakistan vs England — focus on England's top order and Pakistan’s pace attack.\",\n",
    "        metadata={\n",
    "            \"id\": \"doc_005\",\n",
    "            \"title\": \"Match Preview: Pakistan vs England\",\n",
    "            \"document_type\": \"preview\"\n",
    "        }\n",
    "    )\n",
    "]\n"
   ]
  },
  {
   "cell_type": "code",
   "execution_count": 4,
   "id": "6d473acb-540e-447a-8fc7-ff4fe57177b1",
   "metadata": {},
   "outputs": [],
   "source": [
    "embedding = HuggingFaceEmbeddings(model=\"sentence-transformers/all-MiniLM-L6-v2\")"
   ]
  },
  {
   "cell_type": "code",
   "execution_count": 5,
   "id": "100d4f2d-4578-4d05-9281-c62ddd7b147e",
   "metadata": {},
   "outputs": [
    {
     "name": "stderr",
     "output_type": "stream",
     "text": [
      "/tmp/ipykernel_8677/1898808749.py:1: LangChainDeprecationWarning: The class `Chroma` was deprecated in LangChain 0.2.9 and will be removed in 1.0. An updated version of the class exists in the :class:`~langchain-chroma package and should be used instead. To use it run `pip install -U :class:`~langchain-chroma` and import as `from :class:`~langchain_chroma import Chroma``.\n",
      "  vector_store = Chroma(\n"
     ]
    }
   ],
   "source": [
    "vector_store = Chroma(\n",
    "    embedding_function=embedding,\n",
    "    persist_directory=\"1Vector_db\",\n",
    "    collection_name=\"test\"\n",
    ")"
   ]
  },
  {
   "cell_type": "code",
   "execution_count": 6,
   "id": "ac087761-de32-4134-818b-eae71c20f572",
   "metadata": {},
   "outputs": [
    {
     "data": {
      "text/plain": [
       "['5b907601-09a3-4919-ac97-d63e538081db',\n",
       " '08b1b4ca-26f7-4a56-8995-7d11e9e6c36f',\n",
       " '509adcdf-8ade-49dc-be08-360b8447cea2',\n",
       " '2fa9dcbe-1600-4990-84b2-f4f330a49beb',\n",
       " '0ff61a80-2ac3-4fb6-b7bb-aa9b307afcee']"
      ]
     },
     "execution_count": 6,
     "metadata": {},
     "output_type": "execute_result"
    }
   ],
   "source": [
    "vector_store.add_documents(docs)"
   ]
  },
  {
   "cell_type": "code",
   "execution_count": 7,
   "id": "1a9d3caa-1981-4e00-b28f-d05e13c70853",
   "metadata": {},
   "outputs": [
    {
     "data": {
      "text/plain": [
       "{'ids': ['56170061-61cb-498d-8ca6-8d0eb1de11ea',\n",
       "  '66821d9c-6e20-4590-9076-803df98fe87d',\n",
       "  '5b907601-09a3-4919-ac97-d63e538081db',\n",
       "  '08b1b4ca-26f7-4a56-8995-7d11e9e6c36f',\n",
       "  '509adcdf-8ade-49dc-be08-360b8447cea2',\n",
       "  '2fa9dcbe-1600-4990-84b2-f4f330a49beb',\n",
       "  '0ff61a80-2ac3-4fb6-b7bb-aa9b307afcee'],\n",
       " 'embeddings': array([[-0.00649914,  0.09898605, -0.06050067, ...,  0.0725149 ,\n",
       "          0.04145559, -0.01841052],\n",
       "        [ 0.06280218,  0.14011365, -0.12169641, ...,  0.00817483,\n",
       "          0.03673142, -0.02810368],\n",
       "        [-0.00088962,  0.04321384, -0.10279673, ..., -0.05970604,\n",
       "         -0.03915942, -0.019388  ],\n",
       "        ...,\n",
       "        [-0.01425033,  0.12296186, -0.03429231, ..., -0.03929055,\n",
       "          0.0305845 ,  0.09356885],\n",
       "        [-0.02922237,  0.02129599,  0.0040547 , ...,  0.0049027 ,\n",
       "          0.01112   , -0.06170088],\n",
       "        [-0.03655049,  0.08281964, -0.01548659, ...,  0.000214  ,\n",
       "          0.09311094,  0.01251   ]], shape=(7, 384)),\n",
       " 'documents': ['India defeated Australia in an ODI match.',\n",
       "  'Virat Kohli scored a century.',\n",
       "  'India chased 280 with 2 wickets in hand against Australia.',\n",
       "  'Right-handed opener with strong off-side play and weaknesses against spin.',\n",
       "  'Left-arm pacer specializing in death overs with yorkers and slower balls.',\n",
       "  'ICC announces the 2025 Champions Trophy schedule in India and Sri Lanka.',\n",
       "  \"Pakistan vs England — focus on England's top order and Pakistan’s pace attack.\"],\n",
       " 'uris': None,\n",
       " 'included': ['embeddings', 'documents', 'metadatas'],\n",
       " 'data': None,\n",
       " 'metadatas': [{'year': 2023, 'tags': 'match-report, ODI, India, Australia'},\n",
       "  {'tags': 'player-performance, India', 'year': 2023},\n",
       "  {'id': 'doc_001',\n",
       "   'document_type': 'match_report',\n",
       "   'title': 'India vs Australia Match Report'},\n",
       "  {'id': 'doc_002',\n",
       "   'document_type': 'player_profile',\n",
       "   'title': 'Batter Profile'},\n",
       "  {'id': 'doc_003',\n",
       "   'document_type': 'player_profile',\n",
       "   'title': 'Bowler Profile'},\n",
       "  {'id': 'doc_004',\n",
       "   'document_type': 'news',\n",
       "   'title': 'Champions Trophy 2025 Schedule'},\n",
       "  {'title': 'Match Preview: Pakistan vs England',\n",
       "   'document_type': 'preview',\n",
       "   'id': 'doc_005'}]}"
      ]
     },
     "execution_count": 7,
     "metadata": {},
     "output_type": "execute_result"
    }
   ],
   "source": [
    "vector_store.get(include=[\"embeddings\",\"documents\",\"metadatas\"])"
   ]
  },
  {
   "cell_type": "code",
   "execution_count": 10,
   "id": "4b207c52-3622-4257-a2e6-37c478690221",
   "metadata": {},
   "outputs": [
    {
     "data": {
      "text/plain": [
       "[Document(metadata={'id': 'doc_004', 'title': 'Champions Trophy 2025 Schedule', 'document_type': 'news'}, page_content='ICC announces the 2025 Champions Trophy schedule in India and Sri Lanka.')]"
      ]
     },
     "execution_count": 10,
     "metadata": {},
     "output_type": "execute_result"
    }
   ],
   "source": [
    "vector_store.similarity_search(\n",
    "    query=\"Schedule of the 2025 Champions Trophy?\",\n",
    "    k=1\n",
    ")"
   ]
  },
  {
   "cell_type": "code",
   "execution_count": 11,
   "id": "d85603df-3221-467b-9172-e6f515a23518",
   "metadata": {},
   "outputs": [
    {
     "data": {
      "text/plain": [
       "[(Document(metadata={'id': 'doc_004', 'document_type': 'news', 'title': 'Champions Trophy 2025 Schedule'}, page_content='ICC announces the 2025 Champions Trophy schedule in India and Sri Lanka.'),\n",
       "  0.6108624935150146),\n",
       " (Document(metadata={'document_type': 'preview', 'title': 'Match Preview: Pakistan vs England', 'id': 'doc_005'}, page_content=\"Pakistan vs England — focus on England's top order and Pakistan’s pace attack.\"),\n",
       "  1.5457468032836914),\n",
       " (Document(metadata={'year': 2023, 'tags': 'player-performance, India'}, page_content='Virat Kohli scored a century.'),\n",
       "  1.5836598873138428)]"
      ]
     },
     "execution_count": 11,
     "metadata": {},
     "output_type": "execute_result"
    }
   ],
   "source": [
    "vector_store.similarity_search_with_score(\n",
    "    query=\"Schedule of the 2025 Champions Trophy?\",\n",
    "    k=3\n",
    ")"
   ]
  },
  {
   "cell_type": "code",
   "execution_count": null,
   "id": "6c71ed36-707d-4fc8-b222-37bb359e326e",
   "metadata": {},
   "outputs": [],
   "source": []
  }
 ],
 "metadata": {
  "kernelspec": {
   "display_name": "Python 3 (ipykernel)",
   "language": "python",
   "name": "python3"
  },
  "language_info": {
   "codemirror_mode": {
    "name": "ipython",
    "version": 3
   },
   "file_extension": ".py",
   "mimetype": "text/x-python",
   "name": "python",
   "nbconvert_exporter": "python",
   "pygments_lexer": "ipython3",
   "version": "3.13.7"
  }
 },
 "nbformat": 4,
 "nbformat_minor": 5
}
